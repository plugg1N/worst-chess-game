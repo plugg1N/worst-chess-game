{
 "cells": [
  {
   "cell_type": "code",
   "execution_count": 1,
   "metadata": {},
   "outputs": [],
   "source": [
    "import chess\n",
    "import chess.pgn\n",
    "from stockfish import Stockfish"
   ]
  },
  {
   "cell_type": "code",
   "execution_count": 2,
   "metadata": {},
   "outputs": [],
   "source": [
    "# standart_fen = 'rnbqkbnr/pppppppp/8/8/8/8/PPPPPPPP/RNBQKBNR w KQkq - 0 1'\n",
    "current_fen = 'rnbqkbnr/pppppppp/8/8/8/8/PPPPPPPP/RNBQKBNR w KQkq - 0 1'\n",
    "\n",
    "# Load Stockfish and Board\n",
    "stockfish = Stockfish(path=\"stockfish-windows.exe\", depth=2, parameters={\"Threads\": 2, \"Minimum Thinking Time\": 30})\n",
    "\n",
    "\n",
    "game = chess.pgn.Game()\n",
    "game.headers[\"Event\"] = \"Example\"\n",
    "\n",
    "\n",
    "board = chess.Board(current_fen)\n",
    "\n",
    "# Setup Stockfish\n",
    "stockfish.set_fen_position(current_fen)\n",
    "stockfish.set_skill_level(20)\n",
    "stockfish.set_depth(2)"
   ]
  },
  {
   "cell_type": "code",
   "execution_count": 5,
   "metadata": {},
   "outputs": [
    {
     "ename": "StockfishException",
     "evalue": "The Stockfish process has crashed",
     "output_type": "error",
     "traceback": [
      "\u001b[1;31m---------------------------------------------------------------------------\u001b[0m",
      "\u001b[1;31mStockfishException\u001b[0m                        Traceback (most recent call last)",
      "Cell \u001b[1;32mIn[5], line 3\u001b[0m\n\u001b[0;32m      1\u001b[0m \u001b[39mwhile\u001b[39;00m \u001b[39mTrue\u001b[39;00m:\n\u001b[0;32m      2\u001b[0m     \u001b[39mwhile\u001b[39;00m \u001b[39mnot\u001b[39;00m board\u001b[39m.\u001b[39mis_checkmate() \u001b[39mor\u001b[39;00m board\u001b[39m.\u001b[39mis_stalemate() \u001b[39mor\u001b[39;00m board\u001b[39m.\u001b[39mis_fifty_moves() \u001b[39mor\u001b[39;00m board\u001b[39m.\u001b[39mis_fivefold_repetition():\n\u001b[1;32m----> 3\u001b[0m         stockfish\u001b[39m.\u001b[39;49mset_fen_position(board\u001b[39m.\u001b[39;49mfen())\n\u001b[0;32m      4\u001b[0m         worst_move \u001b[39m=\u001b[39m stockfish\u001b[39m.\u001b[39mget_top_moves(\u001b[39m30\u001b[39m)[\u001b[39m-\u001b[39m\u001b[39m1\u001b[39m]\n\u001b[0;32m      5\u001b[0m         \u001b[39mprint\u001b[39m(worst_move)\n",
      "File \u001b[1;32md:\\Anaconda\\envs\\stock-chess\\lib\\site-packages\\stockfish\\models.py:207\u001b[0m, in \u001b[0;36mStockfish.set_fen_position\u001b[1;34m(self, fen_position, send_ucinewgame_token)\u001b[0m\n\u001b[0;32m    190\u001b[0m \u001b[39mdef\u001b[39;00m \u001b[39mset_fen_position\u001b[39m(\n\u001b[0;32m    191\u001b[0m     \u001b[39mself\u001b[39m, fen_position: \u001b[39mstr\u001b[39m, send_ucinewgame_token: \u001b[39mbool\u001b[39m \u001b[39m=\u001b[39m \u001b[39mTrue\u001b[39;00m\n\u001b[0;32m    192\u001b[0m ) \u001b[39m-\u001b[39m\u001b[39m>\u001b[39m \u001b[39mNone\u001b[39;00m:\n\u001b[0;32m    193\u001b[0m \u001b[39m    \u001b[39m\u001b[39m\"\"\"Sets current board position in Forsyth–Edwards notation (FEN).\u001b[39;00m\n\u001b[0;32m    194\u001b[0m \n\u001b[0;32m    195\u001b[0m \u001b[39m    Args:\u001b[39;00m\n\u001b[1;32m   (...)\u001b[0m\n\u001b[0;32m    205\u001b[0m \u001b[39m        None\u001b[39;00m\n\u001b[0;32m    206\u001b[0m \u001b[39m    \"\"\"\u001b[39;00m\n\u001b[1;32m--> 207\u001b[0m     \u001b[39mself\u001b[39;49m\u001b[39m.\u001b[39;49m_prepare_for_new_position(send_ucinewgame_token)\n\u001b[0;32m    208\u001b[0m     \u001b[39mself\u001b[39m\u001b[39m.\u001b[39m_put(\u001b[39mf\u001b[39m\u001b[39m\"\u001b[39m\u001b[39mposition fen \u001b[39m\u001b[39m{\u001b[39;00mfen_position\u001b[39m}\u001b[39;00m\u001b[39m\"\u001b[39m)\n",
      "File \u001b[1;32md:\\Anaconda\\envs\\stock-chess\\lib\\site-packages\\stockfish\\models.py:144\u001b[0m, in \u001b[0;36mStockfish._prepare_for_new_position\u001b[1;34m(self, send_ucinewgame_token)\u001b[0m\n\u001b[0;32m    142\u001b[0m \u001b[39mif\u001b[39;00m send_ucinewgame_token:\n\u001b[0;32m    143\u001b[0m     \u001b[39mself\u001b[39m\u001b[39m.\u001b[39m_put(\u001b[39m\"\u001b[39m\u001b[39mucinewgame\u001b[39m\u001b[39m\"\u001b[39m)\n\u001b[1;32m--> 144\u001b[0m \u001b[39mself\u001b[39;49m\u001b[39m.\u001b[39;49m_is_ready()\n\u001b[0;32m    145\u001b[0m \u001b[39mself\u001b[39m\u001b[39m.\u001b[39minfo \u001b[39m=\u001b[39m \u001b[39m\"\u001b[39m\u001b[39m\"\u001b[39m\n",
      "File \u001b[1;32md:\\Anaconda\\envs\\stock-chess\\lib\\site-packages\\stockfish\\models.py:173\u001b[0m, in \u001b[0;36mStockfish._is_ready\u001b[1;34m(self)\u001b[0m\n\u001b[0;32m    171\u001b[0m \u001b[39mdef\u001b[39;00m \u001b[39m_is_ready\u001b[39m(\u001b[39mself\u001b[39m) \u001b[39m-\u001b[39m\u001b[39m>\u001b[39m \u001b[39mNone\u001b[39;00m:\n\u001b[0;32m    172\u001b[0m     \u001b[39mself\u001b[39m\u001b[39m.\u001b[39m_put(\u001b[39m\"\u001b[39m\u001b[39misready\u001b[39m\u001b[39m\"\u001b[39m)\n\u001b[1;32m--> 173\u001b[0m     \u001b[39mwhile\u001b[39;00m \u001b[39mself\u001b[39;49m\u001b[39m.\u001b[39;49m_read_line() \u001b[39m!=\u001b[39m \u001b[39m\"\u001b[39m\u001b[39mreadyok\u001b[39m\u001b[39m\"\u001b[39m:\n\u001b[0;32m    174\u001b[0m         \u001b[39mpass\u001b[39;00m\n",
      "File \u001b[1;32md:\\Anaconda\\envs\\stock-chess\\lib\\site-packages\\stockfish\\models.py:160\u001b[0m, in \u001b[0;36mStockfish._read_line\u001b[1;34m(self)\u001b[0m\n\u001b[0;32m    158\u001b[0m     \u001b[39mraise\u001b[39;00m \u001b[39mBrokenPipeError\u001b[39;00m()\n\u001b[0;32m    159\u001b[0m \u001b[39mif\u001b[39;00m \u001b[39mself\u001b[39m\u001b[39m.\u001b[39m_stockfish\u001b[39m.\u001b[39mpoll() \u001b[39mis\u001b[39;00m \u001b[39mnot\u001b[39;00m \u001b[39mNone\u001b[39;00m:\n\u001b[1;32m--> 160\u001b[0m     \u001b[39mraise\u001b[39;00m StockfishException(\u001b[39m\"\u001b[39m\u001b[39mThe Stockfish process has crashed\u001b[39m\u001b[39m\"\u001b[39m)\n\u001b[0;32m    161\u001b[0m \u001b[39mreturn\u001b[39;00m \u001b[39mself\u001b[39m\u001b[39m.\u001b[39m_stockfish\u001b[39m.\u001b[39mstdout\u001b[39m.\u001b[39mreadline()\u001b[39m.\u001b[39mstrip()\n",
      "\u001b[1;31mStockfishException\u001b[0m: The Stockfish process has crashed"
     ]
    }
   ],
   "source": [
    "while True:\n",
    "    while not board.is_checkmate() or board.is_stalemate() or board.is_fifty_moves() or board.is_fivefold_repetition():\n",
    "        stockfish.set_fen_position(board.fen())\n",
    "        worst_move = stockfish.get_top_moves(30)[-1]\n",
    "        print(worst_move)\n",
    "        board.push(worst_move)\n",
    "\n",
    "        node = node.add_variation(worst_move) # Add game node\n",
    "\n",
    "    print(board)\n",
    "\n",
    "    game.headers[\"Result\"] = board.result()\n",
    "    print(game)"
   ]
  }
 ],
 "metadata": {
  "kernelspec": {
   "display_name": "stock-chess",
   "language": "python",
   "name": "python3"
  },
  "language_info": {
   "codemirror_mode": {
    "name": "ipython",
    "version": 3
   },
   "file_extension": ".py",
   "mimetype": "text/x-python",
   "name": "python",
   "nbconvert_exporter": "python",
   "pygments_lexer": "ipython3",
   "version": "3.10.11"
  },
  "orig_nbformat": 4
 },
 "nbformat": 4,
 "nbformat_minor": 2
}
